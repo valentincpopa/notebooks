{
 "cells": [
  {
   "attachments": {},
   "cell_type": "markdown",
   "metadata": {
    "dotnet_interactive": {
     "language": "csharp"
    },
    "polyglot_notebook": {
     "kernelName": "csharp"
    }
   },
   "source": [
    "# Elasticsearch for .NET developers - introduction\n",
    "\n",
    "Elasticsearch is a powerful and flexible search and analytics engine that can greatly benefit .NET developers looking to enhance their applications.\n",
    "\n",
    "While this summary is not a substitute for official documentation, it serves as a helpful introduction to Elasticsearch's key features and how they can benefit .NET developers.\n",
    "\n",
    "To demonstrate Elasticsearch's capabilities interactively, a [polyglot notebook][1] was generated. This notebook functions as an interactive document that integrates code execution, textual content, visualizations, and multimedia elements into a unified and cohesive environment.\n",
    "\n",
    "Currently, this document won't go into details on various infrastructure related tasks such as configuring Elasticsearch nodes, managing shards and other similar operational activities, but these subjects may be part of a future update.\n",
    "\n",
    "[1]: <https://marketplace.visualstudio.com/items?itemName=ms-dotnettools.dotnet-interactive-vscode> \"Polyglot Notebook\""
   ]
  },
  {
   "attachments": {},
   "cell_type": "markdown",
   "metadata": {
    "dotnet_interactive": {
     "language": "csharp"
    },
    "polyglot_notebook": {
     "kernelName": "csharp"
    }
   },
   "source": [
    "## Getting Started\n",
    "\n",
    "**NOTE**: This notebook assumes that you already have *docker* installed and if you are working on a windows machine you may also need to run some commands through *wsl*.\n",
    "\n",
    "In order to run this notebook locally, you need to go through the following steps:\n",
    "\n",
    "1. Install the latest [Visual Studio Code](https://code.visualstudio.com/).\n",
    "2. Install the latest [.NET 7 SDK](https://dotnet.microsoft.com/en-us/download).\n",
    "3. Install the Polyglot Notebooks extension from the [marketplace](https://marketplace.visualstudio.com/items?itemName=ms-dotnettools.dotnet-interactive-vscode).\n",
    "4. Create a `docker-compose.yml` file and add the following content:\n",
    "\n",
    "```yml\n",
    "version: '3.7'\n",
    "\n",
    "services:\n",
    "    elasticsearch:\n",
    "        image: docker.elastic.co/elasticsearch/elasticsearch:8.5.0\n",
    "        container_name: elasticsearch\n",
    "        environment: \n",
    "            - xpack.security.enabled=false\n",
    "            - discovery.type=single-node\n",
    "        ulimits:\n",
    "            memlock:\n",
    "                soft: -1\n",
    "                hard: -1\n",
    "            nofile:\n",
    "                soft: 65536\n",
    "                hard: 65536\n",
    "        ports:\n",
    "            - 9200:9200\n",
    "            - 9300:9300\n",
    "            \n",
    "    kibana:\n",
    "        container_name: kibana\n",
    "        image: docker.elastic.co/kibana/kibana:8.5.0\n",
    "        environment: \n",
    "            - ELASTICSEARCH_HOSTS=http://elasticsearch:9200\n",
    "        ports:\n",
    "            - 5601:5601\n",
    "        depends_on:\n",
    "            - elasticsearch\n",
    "```\n",
    "\n",
    "5. Run the following command: `docker compose up -d` in the directory where the `docker-compose.yml` file was created.\n",
    "\n",
    "If you encounter the following error while starting the Elasticsearch container: `max file descriptors [65000] for elasticsearch process is too low, increase to at least [65536]` run the following command: `sudo sysctl -w vm.max_map_count=262144`."
   ]
  },
  {
   "attachments": {},
   "cell_type": "markdown",
   "metadata": {
    "dotnet_interactive": {
     "language": "csharp"
    },
    "polyglot_notebook": {
     "kernelName": "csharp"
    }
   },
   "source": [
    "## What is Elasticsearch?\n",
    "\n",
    "Elasticsearch is a distributed document store. Instead of storing information as rows of columnar data, Elasticsearch stores complex data structures that have been serialized as JSON **documents** in an **index**.\n",
    "\n",
    "An **index** can be thought of as an optimized collection of **documents** and each **document** is a collection of **fields**, which are the key-value pairs that contain your data.\n",
    "\n",
    "Elasticsearch also has the ability to be schema-less, which means that documents can be indexed without explicitly specifying how to handle each of the different fields that might occur in a document. When dynamic **mapping** is enabled, Elasticsearch automatically detects and adds new **fields** to the index.\n",
    "\n",
    "Ultimately, however, you know more about your data and how you want to use it than Elasticsearch can. You can define rules to control dynamic **mapping** and explicitly define **mappings** to take full control of how **fields** are stored and indexed [1].\n",
    "\n",
    "[1]. https://www.elastic.co/guide/en/elasticsearch/reference/current/documents-indices.html#documents-indices"
   ]
  },
  {
   "attachments": {},
   "cell_type": "markdown",
   "metadata": {
    "dotnet_interactive": {
     "language": "csharp"
    },
    "polyglot_notebook": {
     "kernelName": "csharp"
    }
   },
   "source": [
    "## Working with the .NET client\n",
    "\n",
    "In order to use the .NET Elasticsearch client you firstly need to add the NEST nuget package to the notebook:"
   ]
  },
  {
   "cell_type": "code",
   "execution_count": 1,
   "metadata": {
    "dotnet_interactive": {
     "language": "csharp"
    },
    "polyglot_notebook": {
     "kernelName": "csharp"
    },
    "vscode": {
     "languageId": "polyglot-notebook"
    }
   },
   "outputs": [
    {
     "data": {
      "text/html": [
       "<div><div></div><div></div><div><strong>Installed Packages</strong><ul><li><span>NEST, 7.17.5</span></li></ul></div></div>"
      ]
     },
     "metadata": {},
     "output_type": "display_data"
    }
   ],
   "source": [
    "#r \"nuget: NEST, *-*\""
   ]
  },
  {
   "attachments": {},
   "cell_type": "markdown",
   "metadata": {
    "dotnet_interactive": {
     "language": "csharp"
    },
    "polyglot_notebook": {
     "kernelName": "csharp"
    }
   },
   "source": [
    "**NOTE**: NEST is still the recommended client for .NET until the new *Elastic.Clients.Elasticsearch v8* will have feature parity with the *NEST v7* client [2].\n",
    "\n",
    "[2]. https://www.elastic.co/guide/en/elasticsearch/client/net-api/current/installation.html"
   ]
  },
  {
   "attachments": {},
   "cell_type": "markdown",
   "metadata": {
    "dotnet_interactive": {
     "language": "csharp"
    },
    "polyglot_notebook": {
     "kernelName": "csharp"
    }
   },
   "source": [
    "Before creating some settings and instantiating the client you also need to register some usings:"
   ]
  },
  {
   "cell_type": "code",
   "execution_count": 2,
   "metadata": {
    "dotnet_interactive": {
     "language": "csharp"
    },
    "polyglot_notebook": {
     "kernelName": "csharp"
    },
    "vscode": {
     "languageId": "polyglot-notebook"
    }
   },
   "outputs": [],
   "source": [
    "using System;\n",
    "using Nest;"
   ]
  },
  {
   "attachments": {},
   "cell_type": "markdown",
   "metadata": {
    "dotnet_interactive": {
     "language": "csharp"
    },
    "polyglot_notebook": {
     "kernelName": "csharp"
    }
   },
   "source": [
    "An instance of the `ElasticClient` is required before mapping, indexing, searching, etc."
   ]
  },
  {
   "cell_type": "code",
   "execution_count": 3,
   "metadata": {
    "dotnet_interactive": {
     "language": "csharp"
    },
    "polyglot_notebook": {
     "kernelName": "csharp"
    },
    "vscode": {
     "languageId": "polyglot-notebook"
    }
   },
   "outputs": [],
   "source": [
    "\n",
    "var settings = new ConnectionSettings()     // the parameterless constructor defaults to http://localhost:9200\n",
    "                .DisableDirectStreaming()   // this setting allows us to see the actual debug information and not some random bytes that were sent across the wire\n",
    "                .PrettyJson();              // instead of seeing a minified version of the JSON data that was sent across the wire, we want to see a prettified version\n",
    "\n",
    "var client = new ElasticClient(settings);"
   ]
  },
  {
   "attachments": {},
   "cell_type": "markdown",
   "metadata": {
    "dotnet_interactive": {
     "language": "csharp"
    },
    "polyglot_notebook": {
     "kernelName": "csharp"
    }
   },
   "source": [
    "The POCO that will be used throughout this notebook can be declared by running the following code block:"
   ]
  },
  {
   "cell_type": "code",
   "execution_count": 4,
   "metadata": {
    "dotnet_interactive": {
     "language": "csharp"
    },
    "polyglot_notebook": {
     "kernelName": "csharp"
    },
    "vscode": {
     "languageId": "polyglot-notebook"
    }
   },
   "outputs": [],
   "source": [
    "public class Employee\n",
    "{\n",
    "    public string Id { get; set; }\n",
    "    public string Name { get; set; }\n",
    "    public int Salary { get; set; }\n",
    "    public bool IsManager { get; set; }\n",
    "    public DateTime Birthday { get; set; }\n",
    "    public TimeSpan Hours { get; set; }\n",
    "}"
   ]
  },
  {
   "attachments": {},
   "cell_type": "markdown",
   "metadata": {
    "dotnet_interactive": {
     "language": "csharp"
    },
    "polyglot_notebook": {
     "kernelName": "csharp"
    }
   },
   "source": [
    "### Mappings\n",
    "\n",
    "#### Auto mapping\n",
    "\n",
    "When creating a mapping either when creating an index or through the Put Mapping API, NEST offers a feature called auto mapping that can automagically infer the correct Elasticsearch field datatypes from the CLR POCO property types you are mapping.\n",
    "\n",
    "In order to offer additional information and examine the request payload that was sent to Elasticsearch, the debug information of the request will also be provided [3]. \n",
    "\n",
    "[3]. https://www.elastic.co/guide/en/elasticsearch/client/net-api/7.17/auto-map.html"
   ]
  },
  {
   "cell_type": "code",
   "execution_count": 5,
   "metadata": {
    "dotnet_interactive": {
     "language": "csharp"
    },
    "polyglot_notebook": {
     "kernelName": "csharp"
    },
    "vscode": {
     "languageId": "polyglot-notebook"
    }
   },
   "outputs": [
    {
     "data": {
      "text/plain": [
       "Valid NEST response built from a successful (200) low level call on PUT: /employees-index-1?pretty=true\r\n",
       "# Audit trail of this API call:\r\n",
       " - [1] ProductCheckOnStartup: Took: 00:00:00.1332027\r\n",
       " - [2] ProductCheckSuccess: Node: http://localhost:9200/ Took: 00:00:00.1224710\r\n",
       " - [3] HealthyResponse: Node: http://localhost:9200/ Took: 00:00:00.4901082\r\n",
       "# Request:\r\n",
       "{\"mappings\":{\"properties\":{\"id\":{\"fields\":{\"keyword\":{\"ignore_above\":256,\"type\":\"keyword\"}},\"type\":\"text\"},\"name\":{\"fields\":{\"keyword\":{\"ignore_above\":256,\"type\":\"keyword\"}},\"type\":\"text\"},\"salary\":{\"type\":\"integer\"},\"isManager\":{\"type\":\"boolean\"},\"birthday\":{\"type\":\"date\"},\"hours\":{\"type\":\"long\"}}}}\r\n",
       "# Response:\r\n",
       "{\n",
       "  \"acknowledged\" : true,\n",
       "  \"shards_acknowledged\" : true,\n",
       "  \"index\" : \"employees-index-1\"\n",
       "}\n",
       "\r\n"
      ]
     },
     "metadata": {},
     "output_type": "display_data"
    }
   ],
   "source": [
    "var createIndexResponse = client.Indices.Create(\n",
    "    \"employees-index-1\", \n",
    "    c => c.Map(m => m.AutoMap<Employee>())\n",
    ");\n",
    "\n",
    "if (!createIndexResponse.IsValid)\n",
    "{\n",
    "    // If the request isn't valid, we can take action here\n",
    "}\n",
    "\n",
    "createIndexResponse.DebugInformation"
   ]
  },
  {
   "cell_type": "code",
   "execution_count": 6,
   "metadata": {
    "dotnet_interactive": {
     "language": "csharp"
    },
    "polyglot_notebook": {
     "kernelName": "csharp"
    },
    "vscode": {
     "languageId": "polyglot-notebook"
    }
   },
   "outputs": [],
   "source": [
    "// if you want to view the whole response object, uncomment the following line:\n",
    "// createIndexResponse\n",
    "\n",
    "// if you want to run the create command multiple times, you may have to delete the previously created index first \n",
    "//client.Indices.Delete(\"employees-index-1\");"
   ]
  },
  {
   "attachments": {},
   "cell_type": "markdown",
   "metadata": {
    "dotnet_interactive": {
     "language": "csharp"
    },
    "polyglot_notebook": {
     "kernelName": "csharp"
    }
   },
   "source": [
    "If you take a look at the response shown after running the previous code block, you can see that the debug information contains a `Request` section and a `Response` section. The `Request` section contains the mappings that were generated by the Elasticsearch .NET client.\n",
    "\n",
    "Although this can help you get started working with Elasticsearch, most use cases require predefined mappings."
   ]
  },
  {
   "attachments": {},
   "cell_type": "markdown",
   "metadata": {
    "dotnet_interactive": {
     "language": "csharp"
    },
    "polyglot_notebook": {
     "kernelName": "csharp"
    }
   },
   "source": [
    "#### Attribute mapping\n",
    "\n",
    "In Auto mapping, you saw that the type mapping for a POCO can be inferred from the properties of the POCO, using `.AutoMap()`. But what do you do when you want to map differently to the inferred mapping? This is where attribute mapping can help [4].\n",
    "\n",
    "[4]. https://www.elastic.co/guide/en/elasticsearch/client/net-api/7.17/attribute-mapping.html#attribute-mapping"
   ]
  },
  {
   "cell_type": "code",
   "execution_count": 7,
   "metadata": {
    "dotnet_interactive": {
     "language": "csharp"
    },
    "polyglot_notebook": {
     "kernelName": "csharp"
    },
    "vscode": {
     "languageId": "polyglot-notebook"
    }
   },
   "outputs": [],
   "source": [
    "public class Employee\n",
    "{\n",
    "    [Keyword]\n",
    "    public string Id { get; set; }\n",
    "\n",
    "    [Text(Name = \"full_name\")]\n",
    "    public string Name { get; set; }\n",
    "\n",
    "    [Number(Coerce = true)]\n",
    "    public int Salary { get; set; }\n",
    "\n",
    "    [Boolean(NullValue = false)]\n",
    "    public bool IsManager { get; set; }\n",
    "\n",
    "    [Date]\n",
    "    public DateTime Birthday { get; set; }\n",
    "\n",
    "    [Text(Name = \"work_week_hours\")]\n",
    "    public TimeSpan Hours { get; set; }\n",
    "}"
   ]
  },
  {
   "attachments": {},
   "cell_type": "markdown",
   "metadata": {
    "dotnet_interactive": {
     "language": "csharp"
    },
    "polyglot_notebook": {
     "kernelName": "csharp"
    }
   },
   "source": [
    "The field types will be presented later within this document, however, it's important to note that, at present, the `text` field type enables partial matching during Elasticsearch searches. On the other hand, the `keyword` field type does not support partial matching. Given this, it is recommended to consider altering the field type of the `Id` property to `keyword` while indexing the `Name` property solely as `text`, especially if one of the requested use cases is to search for employees based on either the first name or the last name.\n",
    "\n",
    "Indexing a field as both `keyword` and `text` in Elasticsearch can have performance and storage implications, and it may not provide significant benefits in most cases."
   ]
  },
  {
   "cell_type": "code",
   "execution_count": 8,
   "metadata": {
    "dotnet_interactive": {
     "language": "csharp"
    },
    "polyglot_notebook": {
     "kernelName": "csharp"
    },
    "vscode": {
     "languageId": "polyglot-notebook"
    }
   },
   "outputs": [
    {
     "data": {
      "text/plain": [
       "Valid NEST response built from a successful (200) low level call on PUT: /employees-index-2?pretty=true\r\n",
       "# Audit trail of this API call:\r\n",
       " - [1] HealthyResponse: Node: http://localhost:9200/ Took: 00:00:00.3105369\r\n",
       "# Request:\r\n",
       "{\"mappings\":{\"properties\":{\"id\":{\"type\":\"keyword\"},\"full_name\":{\"type\":\"text\"},\"salary\":{\"coerce\":true,\"type\":\"float\"},\"isManager\":{\"null_value\":false,\"type\":\"boolean\"},\"birthday\":{\"type\":\"date\"},\"work_week_hours\":{\"type\":\"text\"}}}}\r\n",
       "# Response:\r\n",
       "{\n",
       "  \"acknowledged\" : true,\n",
       "  \"shards_acknowledged\" : true,\n",
       "  \"index\" : \"employees-index-2\"\n",
       "}\n",
       "\r\n"
      ]
     },
     "metadata": {},
     "output_type": "display_data"
    }
   ],
   "source": [
    "var createIndexResponse = client.Indices.Create(\n",
    "    \"employees-index-2\", \n",
    "    c => c.Map(m => m.AutoMap<Employee>())\n",
    ");\n",
    "\n",
    "if (!createIndexResponse.IsValid)\n",
    "{\n",
    "    // If the request isn't valid, we can take action here\n",
    "}\n",
    "\n",
    "createIndexResponse.DebugInformation"
   ]
  },
  {
   "cell_type": "code",
   "execution_count": 9,
   "metadata": {
    "dotnet_interactive": {
     "language": "csharp"
    },
    "polyglot_notebook": {
     "kernelName": "csharp"
    },
    "vscode": {
     "languageId": "polyglot-notebook"
    }
   },
   "outputs": [],
   "source": [
    "// if you want to view the whole response object, uncomment the following line:\n",
    "// createIndexResponse\n",
    "\n",
    "// if you want to run the create command multiple times, you may have to delete the previously created index first \n",
    "//client.Indices.Delete(\"employees-index-2\");"
   ]
  },
  {
   "attachments": {},
   "cell_type": "markdown",
   "metadata": {
    "dotnet_interactive": {
     "language": "csharp"
    },
    "polyglot_notebook": {
     "kernelName": "csharp"
    }
   },
   "source": [
    "As you can see in the `Request` section above, the `Employee` mapping is fairly different from the one generated by the Elasticsearch .NET client (and contains less data than the previous `Request`), mainly because now you can specify whether the type of the field a string maps to is `keyword` or `text`.\n",
    "\n",
    "Attribute mapping can be a convenient way to control how POCOs are mapped with minimal code, however there are some mapping features that cannot be expressed with attributes."
   ]
  },
  {
   "attachments": {},
   "cell_type": "markdown",
   "metadata": {
    "dotnet_interactive": {
     "language": "csharp"
    },
    "polyglot_notebook": {
     "kernelName": "csharp"
    }
   },
   "source": [
    "#### Fluent mapping\n",
    "\n",
    "Fluent mapping POCO properties to fields within an Elasticsearch type mapping offers the most control over the process. With fluent mapping, each property of the POCO is explicitly mapped to an Elasticsearch type field mapping [5].\n",
    "\n",
    "[5]. https://www.elastic.co/guide/en/elasticsearch/client/net-api/7.17/fluent-mapping.html"
   ]
  },
  {
   "attachments": {},
   "cell_type": "markdown",
   "metadata": {
    "dotnet_interactive": {
     "language": "csharp"
    },
    "polyglot_notebook": {
     "kernelName": "csharp"
    }
   },
   "source": [
    "In order to override the previous class declaration that contained attributes required for the attribute mapping you need to run the following code block:"
   ]
  },
  {
   "cell_type": "code",
   "execution_count": 10,
   "metadata": {
    "dotnet_interactive": {
     "language": "csharp"
    },
    "polyglot_notebook": {
     "kernelName": "csharp"
    },
    "vscode": {
     "languageId": "polyglot-notebook"
    }
   },
   "outputs": [],
   "source": [
    "public class Employee\n",
    "{\n",
    "    public string Id { get; set; }\n",
    "    public string Name { get; set; }\n",
    "    public int Salary { get; set; }\n",
    "    public bool IsManager { get; set; }\n",
    "    public DateTime Birthday { get; set; }\n",
    "    public TimeSpan Hours { get; set; }\n",
    "}"
   ]
  },
  {
   "attachments": {},
   "cell_type": "markdown",
   "metadata": {
    "dotnet_interactive": {
     "language": "csharp"
    },
    "polyglot_notebook": {
     "kernelName": "csharp"
    }
   },
   "source": [
    "To create a mapping for the `Employee` type, the fluent API can be used to map each property explicitly:"
   ]
  },
  {
   "cell_type": "code",
   "execution_count": 11,
   "metadata": {
    "dotnet_interactive": {
     "language": "csharp"
    },
    "polyglot_notebook": {
     "kernelName": "csharp"
    },
    "vscode": {
     "languageId": "polyglot-notebook"
    }
   },
   "outputs": [
    {
     "data": {
      "text/plain": [
       "Valid NEST response built from a successful (200) low level call on PUT: /employees-index-3?pretty=true\r\n",
       "# Audit trail of this API call:\r\n",
       " - [1] HealthyResponse: Node: http://localhost:9200/ Took: 00:00:00.3526981\r\n",
       "# Request:\r\n",
       "{\"mappings\":{\"properties\":{\"id\":{\"type\":\"keyword\"},\"name\":{\"type\":\"text\"},\"salary\":{\"type\":\"integer\"},\"isManager\":{\"type\":\"boolean\"},\"birthday\":{\"type\":\"date\"},\"hours\":{\"type\":\"text\"}}}}\r\n",
       "# Response:\r\n",
       "{\n",
       "  \"acknowledged\" : true,\n",
       "  \"shards_acknowledged\" : true,\n",
       "  \"index\" : \"employees-index-3\"\n",
       "}\n",
       "\r\n"
      ]
     },
     "metadata": {},
     "output_type": "display_data"
    }
   ],
   "source": [
    "var createIndexResponse = client.Indices.Create(\n",
    "    \"employees-index-3\", c => c\n",
    "    .Map<Employee>(m => m\n",
    "        .Properties(ps => ps\n",
    "            .Keyword(f => f\n",
    "                .Name(e => e.Id))\n",
    "            .Text(f => f\n",
    "                .Name(e => e.Name))\n",
    "            .Number(f => f\n",
    "                .Name(e => e.Salary)\n",
    "                .Type(NumberType.Integer))                \n",
    "            .Boolean(f => f\n",
    "                .Name(e => e.IsManager))\n",
    "            .Date(f => f\n",
    "                .Name(e => e.Birthday))\n",
    "            .Text(f => f\n",
    "                .Name(e => e.Hours))\n",
    "        )\n",
    "    )\n",
    ");\n",
    "\n",
    "if (!createIndexResponse.IsValid)\n",
    "{\n",
    "    // If the request isn't valid, we can take action here\n",
    "}\n",
    "\n",
    "createIndexResponse.DebugInformation"
   ]
  },
  {
   "cell_type": "code",
   "execution_count": 12,
   "metadata": {
    "dotnet_interactive": {
     "language": "csharp"
    },
    "polyglot_notebook": {
     "kernelName": "csharp"
    },
    "vscode": {
     "languageId": "polyglot-notebook"
    }
   },
   "outputs": [],
   "source": [
    "// if you want to view the whole response object, uncomment the following line:\n",
    "// createIndexResponse\n",
    "\n",
    "// if you want to run the create command multiple times, you may have to delete the previously created index first \n",
    "//client.Indices.Delete(\"employees-index-3\");"
   ]
  },
  {
   "attachments": {},
   "cell_type": "markdown",
   "metadata": {
    "dotnet_interactive": {
     "language": "csharp"
    },
    "polyglot_notebook": {
     "kernelName": "csharp"
    }
   },
   "source": [
    "### Indexing documents\n",
    "\n",
    "NEST exposes the index and bulk APIs of Elasticsearch as methods, to enable indexing of single or multiple documents. In addition to this, the client provides some convenient shorthand methods for the typical indexing approaches [6].\n",
    "\n",
    "[6]. https://www.elastic.co/guide/en/elasticsearch/client/net-api/7.17/indexing-documents.html"
   ]
  },
  {
   "cell_type": "code",
   "execution_count": 13,
   "metadata": {
    "dotnet_interactive": {
     "language": "csharp"
    },
    "polyglot_notebook": {
     "kernelName": "csharp"
    },
    "vscode": {
     "languageId": "polyglot-notebook"
    }
   },
   "outputs": [],
   "source": [
    "var employee = new Employee()\n",
    "{\n",
    "    Id = \"id-1\",\n",
    "    Name = \"John Carmack\",\n",
    "    Birthday = new DateTime(1970, 08, 21),\n",
    "    IsManager = true,\n",
    "    Hours = TimeSpan.FromHours(40),\n",
    "    Salary = 200000\n",
    "};"
   ]
  },
  {
   "cell_type": "code",
   "execution_count": 14,
   "metadata": {
    "dotnet_interactive": {
     "language": "csharp"
    },
    "polyglot_notebook": {
     "kernelName": "csharp"
    },
    "vscode": {
     "languageId": "polyglot-notebook"
    }
   },
   "outputs": [
    {
     "data": {
      "text/plain": [
       "Valid NEST response built from a successful (201) low level call on PUT: /employees-index-3/_doc/id-1?pretty=true\r\n",
       "# Audit trail of this API call:\r\n",
       " - [1] HealthyResponse: Node: http://localhost:9200/ Took: 00:00:00.0531524\r\n",
       "# Request:\r\n",
       "{\"id\":\"id-1\",\"name\":\"John Carmack\",\"salary\":200000,\"isManager\":true,\"birthday\":\"1970-08-21T00:00:00\",\"hours\":1440000000000}\r\n",
       "# Response:\r\n",
       "{\n",
       "  \"_index\" : \"employees-index-3\",\n",
       "  \"_id\" : \"id-1\",\n",
       "  \"_version\" : 1,\n",
       "  \"result\" : \"created\",\n",
       "  \"_shards\" : {\n",
       "    \"total\" : 2,\n",
       "    \"successful\" : 1,\n",
       "    \"failed\" : 0\n",
       "  },\n",
       "  \"_seq_no\" : 0,\n",
       "  \"_primary_term\" : 1\n",
       "}\n",
       "\r\n"
      ]
     },
     "metadata": {},
     "output_type": "display_data"
    }
   ],
   "source": [
    "// fluent syntax\n",
    "var indexResponse = client.Index(employee, i => i.Index(\"employees-index-3\")); \n",
    "if (!indexResponse.IsValid)\n",
    "{\n",
    "    // If the request isn't valid, we can take action here\n",
    "}\n",
    "\n",
    "indexResponse.DebugInformation"
   ]
  },
  {
   "cell_type": "code",
   "execution_count": 15,
   "metadata": {
    "dotnet_interactive": {
     "language": "csharp"
    },
    "polyglot_notebook": {
     "kernelName": "csharp"
    },
    "vscode": {
     "languageId": "polyglot-notebook"
    }
   },
   "outputs": [],
   "source": [
    "var employee = new Employee()\n",
    "{\n",
    "    Name = \"Tom Hall\",\n",
    "    Birthday = new DateTime(1964, 09, 02),\n",
    "    IsManager = true,\n",
    "    Hours = TimeSpan.FromHours(40),\n",
    "    Salary = 100000\n",
    "};"
   ]
  },
  {
   "cell_type": "code",
   "execution_count": 16,
   "metadata": {
    "dotnet_interactive": {
     "language": "csharp"
    },
    "polyglot_notebook": {
     "kernelName": "csharp"
    },
    "vscode": {
     "languageId": "polyglot-notebook"
    }
   },
   "outputs": [
    {
     "data": {
      "text/plain": [
       "Valid NEST response built from a successful (201) low level call on PUT: /employees-index-3/_doc/id-2?pretty=true\r\n",
       "# Audit trail of this API call:\r\n",
       " - [1] HealthyResponse: Node: http://localhost:9200/ Took: 00:00:00.0155244\r\n",
       "# Request:\r\n",
       "{\"name\":\"Tom Hall\",\"salary\":100000,\"isManager\":true,\"birthday\":\"1964-09-02T00:00:00\",\"hours\":1440000000000}\r\n",
       "# Response:\r\n",
       "{\n",
       "  \"_index\" : \"employees-index-3\",\n",
       "  \"_id\" : \"id-2\",\n",
       "  \"_version\" : 1,\n",
       "  \"result\" : \"created\",\n",
       "  \"_shards\" : {\n",
       "    \"total\" : 2,\n",
       "    \"successful\" : 1,\n",
       "    \"failed\" : 0\n",
       "  },\n",
       "  \"_seq_no\" : 1,\n",
       "  \"_primary_term\" : 1\n",
       "}\n",
       "\r\n"
      ]
     },
     "metadata": {},
     "output_type": "display_data"
    }
   ],
   "source": [
    "// object initializer syntax and setting the id as part of the request\n",
    "var indexResponse = client.Index(new IndexRequest<Employee>(employee, \"employees-index-3\", \"id-2\"));\n",
    "indexResponse.DebugInformation"
   ]
  },
  {
   "cell_type": "code",
   "execution_count": 17,
   "metadata": {
    "dotnet_interactive": {
     "language": "csharp"
    },
    "polyglot_notebook": {
     "kernelName": "csharp"
    },
    "vscode": {
     "languageId": "polyglot-notebook"
    }
   },
   "outputs": [],
   "source": [
    "// if you want to view the whole response object, uncomment the following line:\n",
    "// indexResponse"
   ]
  },
  {
   "attachments": {},
   "cell_type": "markdown",
   "metadata": {
    "dotnet_interactive": {
     "language": "csharp"
    },
    "polyglot_notebook": {
     "kernelName": "csharp"
    }
   },
   "source": [
    "**NOTE**: Executing the index command repeatedly without modifying the id of the document that is being indexed will result in the provided document being updated within Elasticsearch."
   ]
  },
  {
   "attachments": {},
   "cell_type": "markdown",
   "metadata": {
    "dotnet_interactive": {
     "language": "csharp"
    },
    "polyglot_notebook": {
     "kernelName": "csharp"
    }
   },
   "source": [
    "Multiple documents can be indexed using the `IndexMany` and `IndexManyAsync` methods, but for very large document collection it is recommended to use the `BulkAllObservable` helper instead [7].\n",
    "\n",
    "[7]. https://www.elastic.co/guide/en/elasticsearch/client/net-api/7.17/indexing-documents.html#_multiple_documents_with_indexmany"
   ]
  },
  {
   "cell_type": "code",
   "execution_count": 18,
   "metadata": {
    "dotnet_interactive": {
     "language": "csharp"
    },
    "polyglot_notebook": {
     "kernelName": "csharp"
    },
    "vscode": {
     "languageId": "polyglot-notebook"
    }
   },
   "outputs": [],
   "source": [
    "var employees = new Employee[]\n",
    "{\n",
    "    new Employee\n",
    "    {\n",
    "        Id = \"id-3\",\n",
    "        Name = \"Adrian Carmack\",\n",
    "        Birthday = new DateTime(1970, 08, 24),\n",
    "        IsManager = false,\n",
    "        Hours = TimeSpan.FromHours(40),\n",
    "        Salary = 200000\n",
    "    }, \n",
    "    new Employee\n",
    "    {\n",
    "        Id = \"id-4\",\n",
    "        Name = \"John Romero\",\n",
    "        Birthday = new DateTime(1969, 05, 05),\n",
    "        IsManager = false,\n",
    "        Hours = TimeSpan.FromHours(40),\n",
    "        Salary = 100000\n",
    "    },\n",
    "};"
   ]
  },
  {
   "cell_type": "code",
   "execution_count": 19,
   "metadata": {
    "dotnet_interactive": {
     "language": "csharp"
    },
    "polyglot_notebook": {
     "kernelName": "csharp"
    },
    "vscode": {
     "languageId": "polyglot-notebook"
    }
   },
   "outputs": [
    {
     "data": {
      "text/plain": [
       "Invalid NEST response built from a successful (200) low level call on POST: /employees-index-3/_bulk?pretty=true\r\n",
       "# Invalid Bulk items:\r\n",
       "  operation[0]: index returned 201 _index: employees-index-3 _type:  _id: id-3 _version: 1 error: \r\n",
       "  operation[1]: index returned 201 _index: employees-index-3 _type:  _id: id-4 _version: 1 error: \r\n",
       "# Audit trail of this API call:\r\n",
       " - [1] HealthyResponse: Node: http://localhost:9200/ Took: 00:00:00.0565744\r\n",
       "# Request:\r\n",
       "{\"index\":{\"_id\":\"id-3\"}}\n",
       "{\"id\":\"id-3\",\"name\":\"Adrian Carmack\",\"salary\":200000,\"isManager\":false,\"birthday\":\"1970-08-24T00:00:00\",\"hours\":1440000000000}\n",
       "{\"index\":{\"_id\":\"id-4\"}}\n",
       "{\"id\":\"id-4\",\"name\":\"John Romero\",\"salary\":100000,\"isManager\":false,\"birthday\":\"1969-05-05T00:00:00\",\"hours\":1440000000000}\n",
       "\r\n",
       "# Response:\r\n",
       "{\n",
       "  \"took\" : 12,\n",
       "  \"errors\" : false,\n",
       "  \"items\" : [\n",
       "    {\n",
       "      \"index\" : {\n",
       "        \"_index\" : \"employees-index-3\",\n",
       "        \"_id\" : \"id-3\",\n",
       "        \"_version\" : 1,\n",
       "        \"result\" : \"created\",\n",
       "        \"_shards\" : {\n",
       "          \"total\" : 2,\n",
       "          \"successful\" : 1,\n",
       "          \"failed\" : 0\n",
       "        },\n",
       "        \"_seq_no\" : 2,\n",
       "        \"_primary_term\" : 1,\n",
       "        \"status\" : 201\n",
       "      }\n",
       "    },\n",
       "    {\n",
       "      \"index\" : {\n",
       "        \"_index\" : \"employees-index-3\",\n",
       "        \"_id\" : \"id-4\",\n",
       "        \"_version\" : 1,\n",
       "        \"result\" : \"created\",\n",
       "        \"_shards\" : {\n",
       "          \"total\" : 2,\n",
       "          \"successful\" : 1,\n",
       "          \"failed\" : 0\n",
       "        },\n",
       "        \"_seq_no\" : 3,\n",
       "        \"_primary_term\" : 1,\n",
       "        \"status\" : 201\n",
       "      }\n",
       "    }\n",
       "  ]\n",
       "}\n",
       "\r\n"
      ]
     },
     "metadata": {},
     "output_type": "display_data"
    }
   ],
   "source": [
    "var indexManyResponse = client.IndexMany(employees, \"employees-index-3\"); \n",
    "\n",
    "if (indexManyResponse.Errors) \n",
    "{\n",
    "    foreach (var itemWithError in indexManyResponse.ItemsWithErrors) \n",
    "    {\n",
    "        Console.WriteLine($\"Failed to index document {itemWithError.Id}: {itemWithError.Error}\");\n",
    "    }\n",
    "}\n",
    "\n",
    "indexManyResponse.DebugInformation"
   ]
  },
  {
   "cell_type": "code",
   "execution_count": 20,
   "metadata": {
    "dotnet_interactive": {
     "language": "csharp"
    },
    "polyglot_notebook": {
     "kernelName": "csharp"
    },
    "vscode": {
     "languageId": "polyglot-notebook"
    }
   },
   "outputs": [],
   "source": [
    "// if you want to view the whole response object, uncomment the following line:\n",
    "// indexManyResponse"
   ]
  },
  {
   "attachments": {},
   "cell_type": "markdown",
   "metadata": {
    "dotnet_interactive": {
     "language": "csharp"
    },
    "polyglot_notebook": {
     "kernelName": "csharp"
    }
   },
   "source": [
    "**NOTE**: Although the message from the previous code block may be `Invalid NEST response built from a successful (200) low level call on POST` the request went through and the provided data was indexed successfully."
   ]
  },
  {
   "attachments": {},
   "cell_type": "markdown",
   "metadata": {
    "dotnet_interactive": {
     "language": "csharp"
    },
    "polyglot_notebook": {
     "kernelName": "csharp"
    }
   },
   "source": [
    "If you require more control over indexing many documents, you can use the `Bulk` and `BulkAsync` methods and use the descriptors to customize the bulk calls."
   ]
  },
  {
   "attachments": {},
   "cell_type": "markdown",
   "metadata": {
    "dotnet_interactive": {
     "language": "csharp"
    },
    "polyglot_notebook": {
     "kernelName": "csharp"
    }
   },
   "source": [
    "### Searching\n",
    "\n",
    "By default, Elasticsearch sorts matching search results by relevance score, which measures how well each document matches a query.\n",
    "\n",
    "#### Query context\n",
    "\n",
    "In the query context, a query clause answers the question *“How well does this document match this query clause?”* Besides deciding whether or not the document matches, the query clause also calculates a relevance score in the `_score` metadata field.\n",
    "\n",
    "Query context is in effect whenever a query clause is passed to a query parameter, such as the `query` parameter in the search API.\n",
    "\n",
    "The simplest of queries is the `match_all` query; this will return all documents, giving them all a `_score` of 1.0 [8].\n",
    "\n",
    "[8]. https://www.elastic.co/guide/en/elasticsearch/reference/current/query-filter-context.html#query-context"
   ]
  },
  {
   "cell_type": "code",
   "execution_count": 28,
   "metadata": {
    "dotnet_interactive": {
     "language": "csharp"
    },
    "polyglot_notebook": {
     "kernelName": "csharp"
    },
    "vscode": {
     "languageId": "polyglot-notebook"
    }
   },
   "outputs": [
    {
     "data": {
      "text/html": [
       "<table><thead><tr><th><i>index</i></th><th>Id</th><th>Score</th><th>Source</th><th>TotalHours</th></tr></thead><tbody><tr><td>0</td><td>id-1</td><td><div class=\"dni-plaintext\"><pre>1</pre></div></td><td><table><thead><tr><th>Id</th><th>Name</th><th>Salary</th><th>IsManager</th><th>Birthday</th><th>Hours</th></tr></thead><tbody><tr><td><div class=\"dni-plaintext\"><pre>id-1</pre></div></td><td><div class=\"dni-plaintext\"><pre>John Carmack</pre></div></td><td><div class=\"dni-plaintext\"><pre>200000</pre></div></td><td><div class=\"dni-plaintext\"><pre>True</pre></div></td><td><div class=\"dni-plaintext\"><pre>1970-08-21 00:00:00Z</pre></div></td><td><div class=\"dni-plaintext\"><pre>1.16:00:00</pre></div></td></tr></tbody></table></td><td><div class=\"dni-plaintext\"><pre>40</pre></div></td></tr><tr><td>1</td><td>id-2</td><td><div class=\"dni-plaintext\"><pre>1</pre></div></td><td><table><thead><tr><th>Id</th><th>Name</th><th>Salary</th><th>IsManager</th><th>Birthday</th><th>Hours</th></tr></thead><tbody><tr><td><div class=\"dni-plaintext\"><pre>&lt;null&gt;</pre></div></td><td><div class=\"dni-plaintext\"><pre>Tom Hall</pre></div></td><td><div class=\"dni-plaintext\"><pre>100000</pre></div></td><td><div class=\"dni-plaintext\"><pre>True</pre></div></td><td><div class=\"dni-plaintext\"><pre>1964-09-02 00:00:00Z</pre></div></td><td><div class=\"dni-plaintext\"><pre>1.16:00:00</pre></div></td></tr></tbody></table></td><td><div class=\"dni-plaintext\"><pre>40</pre></div></td></tr><tr><td>2</td><td>id-3</td><td><div class=\"dni-plaintext\"><pre>1</pre></div></td><td><table><thead><tr><th>Id</th><th>Name</th><th>Salary</th><th>IsManager</th><th>Birthday</th><th>Hours</th></tr></thead><tbody><tr><td><div class=\"dni-plaintext\"><pre>id-3</pre></div></td><td><div class=\"dni-plaintext\"><pre>Adrian Carmack</pre></div></td><td><div class=\"dni-plaintext\"><pre>200000</pre></div></td><td><div class=\"dni-plaintext\"><pre>False</pre></div></td><td><div class=\"dni-plaintext\"><pre>1970-08-24 00:00:00Z</pre></div></td><td><div class=\"dni-plaintext\"><pre>1.16:00:00</pre></div></td></tr></tbody></table></td><td><div class=\"dni-plaintext\"><pre>40</pre></div></td></tr><tr><td>3</td><td>id-4</td><td><div class=\"dni-plaintext\"><pre>1</pre></div></td><td><table><thead><tr><th>Id</th><th>Name</th><th>Salary</th><th>IsManager</th><th>Birthday</th><th>Hours</th></tr></thead><tbody><tr><td><div class=\"dni-plaintext\"><pre>id-4</pre></div></td><td><div class=\"dni-plaintext\"><pre>John Romero</pre></div></td><td><div class=\"dni-plaintext\"><pre>100000</pre></div></td><td><div class=\"dni-plaintext\"><pre>False</pre></div></td><td><div class=\"dni-plaintext\"><pre>1969-05-05 00:00:00Z</pre></div></td><td><div class=\"dni-plaintext\"><pre>1.16:00:00</pre></div></td></tr></tbody></table></td><td><div class=\"dni-plaintext\"><pre>40</pre></div></td></tr></tbody></table><style>\r\n",
       ".dni-code-hint {\r\n",
       "    font-style: italic;\r\n",
       "    overflow: hidden;\r\n",
       "    white-space: nowrap;\r\n",
       "}\r\n",
       ".dni-treeview {\r\n",
       "    white-space: nowrap;\r\n",
       "}\r\n",
       ".dni-treeview td {\r\n",
       "    vertical-align: top;\r\n",
       "    text-align: start;\r\n",
       "}\r\n",
       "details.dni-treeview {\r\n",
       "    padding-left: 1em;\r\n",
       "}\r\n",
       "table td {\r\n",
       "    text-align: start;\r\n",
       "}\r\n",
       "table tr { \r\n",
       "    vertical-align: top; \r\n",
       "    margin: 0em 0px;\r\n",
       "}\r\n",
       "table tr td pre \r\n",
       "{ \r\n",
       "    vertical-align: top !important; \r\n",
       "    margin: 0em 0px !important;\r\n",
       "} \r\n",
       "table th {\r\n",
       "    text-align: start;\r\n",
       "}\r\n",
       "</style>"
      ]
     },
     "metadata": {},
     "output_type": "display_data"
    }
   ],
   "source": [
    "var searchResponse = client.Search<Employee>(s => s\n",
    "    .Index(\"employees-index-3\")\n",
    "    .Query(q => q\n",
    "        .MatchAll()\n",
    "    )\n",
    ");\n",
    "\n",
    "var documents = searchResponse.Hits.Select(x => new { x.Id, x.Score, x.Source, x.Source.Hours.TotalHours });\n",
    "\n",
    "documents"
   ]
  },
  {
   "attachments": {},
   "cell_type": "markdown",
   "metadata": {
    "dotnet_interactive": {
     "language": "csharp"
    },
    "polyglot_notebook": {
     "kernelName": "csharp"
    }
   },
   "source": [
    "**NOTE**: As you can see in the cell output above, the id of a certain object doesn't have to be be populated in order to index a document with a specific id. However, it's important to note that this practice is not particularly recommended."
   ]
  },
  {
   "cell_type": "code",
   "execution_count": 22,
   "metadata": {
    "dotnet_interactive": {
     "language": "csharp"
    },
    "polyglot_notebook": {
     "kernelName": "csharp"
    },
    "vscode": {
     "languageId": "polyglot-notebook"
    }
   },
   "outputs": [],
   "source": [
    "// if you want to view the whole response object, uncomment the following line:\n",
    "// searchResponse"
   ]
  },
  {
   "attachments": {},
   "cell_type": "markdown",
   "metadata": {
    "dotnet_interactive": {
     "language": "csharp"
    },
    "polyglot_notebook": {
     "kernelName": "csharp"
    }
   },
   "source": [
    "The following query should return a list of documents that match or partially match the provided name:"
   ]
  },
  {
   "cell_type": "code",
   "execution_count": 23,
   "metadata": {
    "dotnet_interactive": {
     "language": "csharp"
    },
    "polyglot_notebook": {
     "kernelName": "csharp"
    },
    "vscode": {
     "languageId": "polyglot-notebook"
    }
   },
   "outputs": [
    {
     "data": {
      "text/html": [
       "<table><thead><tr><th><i>index</i></th><th>Id</th><th>Score</th><th>Source</th><th>TotalHours</th></tr></thead><tbody><tr><td>0</td><td>id-1</td><td><div class=\"dni-plaintext\"><pre>1.3862942</pre></div></td><td><table><thead><tr><th>Id</th><th>Name</th><th>Salary</th><th>IsManager</th><th>Birthday</th><th>Hours</th></tr></thead><tbody><tr><td><div class=\"dni-plaintext\"><pre>id-1</pre></div></td><td><div class=\"dni-plaintext\"><pre>John Carmack</pre></div></td><td><div class=\"dni-plaintext\"><pre>200000</pre></div></td><td><div class=\"dni-plaintext\"><pre>True</pre></div></td><td><div class=\"dni-plaintext\"><pre>1970-08-21 00:00:00Z</pre></div></td><td><div class=\"dni-plaintext\"><pre>1.16:00:00</pre></div></td></tr></tbody></table></td><td><div class=\"dni-plaintext\"><pre>40</pre></div></td></tr><tr><td>1</td><td>id-3</td><td><div class=\"dni-plaintext\"><pre>0.6931471</pre></div></td><td><table><thead><tr><th>Id</th><th>Name</th><th>Salary</th><th>IsManager</th><th>Birthday</th><th>Hours</th></tr></thead><tbody><tr><td><div class=\"dni-plaintext\"><pre>id-3</pre></div></td><td><div class=\"dni-plaintext\"><pre>Adrian Carmack</pre></div></td><td><div class=\"dni-plaintext\"><pre>200000</pre></div></td><td><div class=\"dni-plaintext\"><pre>False</pre></div></td><td><div class=\"dni-plaintext\"><pre>1970-08-24 00:00:00Z</pre></div></td><td><div class=\"dni-plaintext\"><pre>1.16:00:00</pre></div></td></tr></tbody></table></td><td><div class=\"dni-plaintext\"><pre>40</pre></div></td></tr><tr><td>2</td><td>id-4</td><td><div class=\"dni-plaintext\"><pre>0.6931471</pre></div></td><td><table><thead><tr><th>Id</th><th>Name</th><th>Salary</th><th>IsManager</th><th>Birthday</th><th>Hours</th></tr></thead><tbody><tr><td><div class=\"dni-plaintext\"><pre>id-4</pre></div></td><td><div class=\"dni-plaintext\"><pre>John Romero</pre></div></td><td><div class=\"dni-plaintext\"><pre>100000</pre></div></td><td><div class=\"dni-plaintext\"><pre>False</pre></div></td><td><div class=\"dni-plaintext\"><pre>1969-05-05 00:00:00Z</pre></div></td><td><div class=\"dni-plaintext\"><pre>1.16:00:00</pre></div></td></tr></tbody></table></td><td><div class=\"dni-plaintext\"><pre>40</pre></div></td></tr></tbody></table><style>\r\n",
       ".dni-code-hint {\r\n",
       "    font-style: italic;\r\n",
       "    overflow: hidden;\r\n",
       "    white-space: nowrap;\r\n",
       "}\r\n",
       ".dni-treeview {\r\n",
       "    white-space: nowrap;\r\n",
       "}\r\n",
       ".dni-treeview td {\r\n",
       "    vertical-align: top;\r\n",
       "    text-align: start;\r\n",
       "}\r\n",
       "details.dni-treeview {\r\n",
       "    padding-left: 1em;\r\n",
       "}\r\n",
       "table td {\r\n",
       "    text-align: start;\r\n",
       "}\r\n",
       "table tr { \r\n",
       "    vertical-align: top; \r\n",
       "    margin: 0em 0px;\r\n",
       "}\r\n",
       "table tr td pre \r\n",
       "{ \r\n",
       "    vertical-align: top !important; \r\n",
       "    margin: 0em 0px !important;\r\n",
       "} \r\n",
       "table th {\r\n",
       "    text-align: start;\r\n",
       "}\r\n",
       "</style>"
      ]
     },
     "metadata": {},
     "output_type": "display_data"
    }
   ],
   "source": [
    "var searchResponse = client.Search<Employee>(s => s\n",
    "    .Index(\"employees-index-3\")\n",
    "    .Query(q => q\n",
    "        .Match(m => m\n",
    "            .Field(x => x.Name)\n",
    "            .Query(\"John Carmack\"))\n",
    "    )\n",
    ");\n",
    "\n",
    "var documents = searchResponse.Hits.Select(x => new { x.Id, x.Score, x.Source, x.Source.Hours.TotalHours });\n",
    "\n",
    "documents"
   ]
  },
  {
   "attachments": {},
   "cell_type": "markdown",
   "metadata": {
    "dotnet_interactive": {
     "language": "csharp"
    },
    "polyglot_notebook": {
     "kernelName": "csharp"
    }
   },
   "source": [
    "Since the previous query was executed in the query context, the results are sorted by their relevance score:\n",
    "- \"John Carmack\" fully matches the query and has the highest score\n",
    "- \"Adrian Carmack\" partially matches the query and has a lower score\n",
    "- \"John Romero\" partially matches the query and has a lower score\n",
    "- \"Tom Hall\" doesn't match the query at all and it's not part of the result set "
   ]
  },
  {
   "cell_type": "code",
   "execution_count": 24,
   "metadata": {
    "dotnet_interactive": {
     "language": "csharp"
    },
    "polyglot_notebook": {
     "kernelName": "csharp"
    },
    "vscode": {
     "languageId": "polyglot-notebook"
    }
   },
   "outputs": [],
   "source": [
    "// if you want to view the whole response object, uncomment the following line:\n",
    "// searchResponse"
   ]
  },
  {
   "attachments": {},
   "cell_type": "markdown",
   "metadata": {
    "dotnet_interactive": {
     "language": "csharp"
    },
    "polyglot_notebook": {
     "kernelName": "csharp"
    }
   },
   "source": [
    "\n",
    "#### Filter context\n",
    "\n",
    "In a filter context, a query clause answers the question “Does this document match this query clause?” The answer is a simple Yes or No — no scores are calculated. Filter context is mostly used for filtering structured data, e.g.\n",
    "\n",
    "- Does this timestamp fall into the range 2015 to 2016?\n",
    "- Is the status field set to \"published\"?\n",
    "\n",
    "Filter context is in effect whenever a query clause is passed to a `filter` parameter, such as the `filter` or `must_not` parameters in the `bool` query, the `filter` parameter in the `constant_score` query, or the `filter` aggregation [9].\n",
    "\n",
    "[9]. https://www.elastic.co/guide/en/elasticsearch/reference/current/query-filter-context.html#filter-context\n",
    "\n",
    "The following query should return a list of documents for which the value of the `salary` property is less than *150000*:"
   ]
  },
  {
   "cell_type": "code",
   "execution_count": 25,
   "metadata": {
    "dotnet_interactive": {
     "language": "csharp"
    },
    "polyglot_notebook": {
     "kernelName": "csharp"
    },
    "vscode": {
     "languageId": "polyglot-notebook"
    }
   },
   "outputs": [
    {
     "data": {
      "text/html": [
       "<table><thead><tr><th><i>index</i></th><th>Id</th><th>Score</th><th>Source</th><th>TotalHours</th></tr></thead><tbody><tr><td>0</td><td>id-2</td><td><div class=\"dni-plaintext\"><pre>1</pre></div></td><td><table><thead><tr><th>Id</th><th>Name</th><th>Salary</th><th>IsManager</th><th>Birthday</th><th>Hours</th></tr></thead><tbody><tr><td><div class=\"dni-plaintext\"><pre>&lt;null&gt;</pre></div></td><td><div class=\"dni-plaintext\"><pre>Tom Hall</pre></div></td><td><div class=\"dni-plaintext\"><pre>100000</pre></div></td><td><div class=\"dni-plaintext\"><pre>True</pre></div></td><td><div class=\"dni-plaintext\"><pre>1964-09-02 00:00:00Z</pre></div></td><td><div class=\"dni-plaintext\"><pre>1.16:00:00</pre></div></td></tr></tbody></table></td><td><div class=\"dni-plaintext\"><pre>40</pre></div></td></tr><tr><td>1</td><td>id-4</td><td><div class=\"dni-plaintext\"><pre>1</pre></div></td><td><table><thead><tr><th>Id</th><th>Name</th><th>Salary</th><th>IsManager</th><th>Birthday</th><th>Hours</th></tr></thead><tbody><tr><td><div class=\"dni-plaintext\"><pre>id-4</pre></div></td><td><div class=\"dni-plaintext\"><pre>John Romero</pre></div></td><td><div class=\"dni-plaintext\"><pre>100000</pre></div></td><td><div class=\"dni-plaintext\"><pre>False</pre></div></td><td><div class=\"dni-plaintext\"><pre>1969-05-05 00:00:00Z</pre></div></td><td><div class=\"dni-plaintext\"><pre>1.16:00:00</pre></div></td></tr></tbody></table></td><td><div class=\"dni-plaintext\"><pre>40</pre></div></td></tr></tbody></table><style>\r\n",
       ".dni-code-hint {\r\n",
       "    font-style: italic;\r\n",
       "    overflow: hidden;\r\n",
       "    white-space: nowrap;\r\n",
       "}\r\n",
       ".dni-treeview {\r\n",
       "    white-space: nowrap;\r\n",
       "}\r\n",
       ".dni-treeview td {\r\n",
       "    vertical-align: top;\r\n",
       "    text-align: start;\r\n",
       "}\r\n",
       "details.dni-treeview {\r\n",
       "    padding-left: 1em;\r\n",
       "}\r\n",
       "table td {\r\n",
       "    text-align: start;\r\n",
       "}\r\n",
       "table tr { \r\n",
       "    vertical-align: top; \r\n",
       "    margin: 0em 0px;\r\n",
       "}\r\n",
       "table tr td pre \r\n",
       "{ \r\n",
       "    vertical-align: top !important; \r\n",
       "    margin: 0em 0px !important;\r\n",
       "} \r\n",
       "table th {\r\n",
       "    text-align: start;\r\n",
       "}\r\n",
       "</style>"
      ]
     },
     "metadata": {},
     "output_type": "display_data"
    }
   ],
   "source": [
    "var searchResponse = client.Search<Employee>(s => s\n",
    "    .Index(\"employees-index-3\")\n",
    "    .Query(q => q\n",
    "        .Range(r => r\n",
    "            .Field(x => x.Salary)\n",
    "            .LessThan(150000)\n",
    "        )\n",
    "    )\n",
    ");\n",
    "\n",
    "var documents = searchResponse.Hits.Select(x => new { x.Id, x.Score, x.Source, x.Source.Hours.TotalHours });\n",
    "\n",
    "documents"
   ]
  },
  {
   "attachments": {},
   "cell_type": "markdown",
   "metadata": {
    "dotnet_interactive": {
     "language": "csharp"
    },
    "polyglot_notebook": {
     "kernelName": "csharp"
    }
   },
   "source": [
    "As seen in the result from above, the score of the returned documents is constant and is not influenced by the value of the `salary` property. The result set simply answers the question: *Which employees have a salary lower than 150000?*"
   ]
  },
  {
   "cell_type": "code",
   "execution_count": 26,
   "metadata": {
    "dotnet_interactive": {
     "language": "csharp"
    },
    "polyglot_notebook": {
     "kernelName": "csharp"
    },
    "vscode": {
     "languageId": "polyglot-notebook"
    }
   },
   "outputs": [],
   "source": [
    "// if you want to view the whole response object, uncomment the following line:\n",
    "// searchResponse"
   ]
  },
  {
   "cell_type": "code",
   "execution_count": 27,
   "metadata": {
    "dotnet_interactive": {
     "language": "csharp"
    },
    "polyglot_notebook": {
     "kernelName": "csharp"
    },
    "vscode": {
     "languageId": "polyglot-notebook"
    }
   },
   "outputs": [],
   "source": [
    "// if you want to rerun all the codeblocks without any errors you may need to delete all elasticsearch indexes:\n",
    "// client.Indices.Delete(\"employees-index-1\");\n",
    "// client.Indices.Delete(\"employees-index-2\");\n",
    "// client.Indices.Delete(\"employees-index-3\");"
   ]
  },
  {
   "attachments": {},
   "cell_type": "markdown",
   "metadata": {
    "dotnet_interactive": {
     "language": "csharp"
    },
    "polyglot_notebook": {
     "kernelName": "csharp"
    }
   },
   "source": [
    "This document merely begins to explore a handful of the extensive capabilities that Elasticsearch has to offer. For an in depth understanding of any of the aforementioned features you should consult the official documentation.\n",
    "\n",
    "Since this notebook was intended as a short introduction to Elasticsearch for .NET developers, additional 'per-feature' notebooks will be created in the future."
   ]
  }
 ],
 "metadata": {
  "kernelspec": {
   "display_name": ".NET (C#)",
   "language": "C#",
   "name": ".net-csharp"
  },
  "polyglot_notebook": {
   "kernelInfo": {
    "defaultKernelName": "csharp",
    "items": [
     {
      "aliases": [],
      "name": "csharp"
     }
    ]
   }
  }
 },
 "nbformat": 4,
 "nbformat_minor": 2
}
